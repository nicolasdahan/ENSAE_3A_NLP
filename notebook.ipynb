{
 "cells": [
  {
   "cell_type": "code",
   "execution_count": 1,
   "metadata": {
    "id": "UxhdMkwkkS8b"
   },
   "outputs": [],
   "source": [
    "import numpy as np \n",
    "import pandas as pd\n",
    "import matplotlib.pyplot as plt\n",
    "import seaborn as sns\n",
    "import random \n",
    "import json\n",
    "\n",
    "np.random.seed(0)\n",
    "random.seed(0)\n",
    "\n",
    "import warnings; warnings.filterwarnings(\"ignore\")\n"
   ]
  },
  {
   "cell_type": "code",
   "execution_count": 2,
   "metadata": {
    "id": "ASKRg_EyWldp"
   },
   "outputs": [],
   "source": [
    "#https://www.kaggle.com/c/nlp-getting-started/data?select=train.csv"
   ]
  },
  {
   "cell_type": "markdown",
   "metadata": {
    "id": "UcLqCVz7D6jk"
   },
   "source": [
    "Our project is a Kaggle competition.\n",
    "\n",
    "Twitter has become an important communication channel in times of emergency.\n",
    "The ubiquitousness of smartphones enables people to announce an emergency they’re observing in real-time. Because of this, more agencies are interested in programatically monitoring Twitter (i.e. disaster relief organizations and news agencies).\n",
    "\n",
    "This dataset was created by the company figure-eight and originally shared on their ‘Data For Everyone’ (https://appen.com/open-source-datasets/).\n",
    "\n",
    "We have to predict whether a given tweet is about a real disaster or not.\n",
    "\n",
    "For that we want to apply two kind of transfer learning technics:\n",
    "-features extraction\n",
    "-fine-tuning\n",
    "\n",
    "And we want to see which one is the most relevant in our case."
   ]
  },
  {
   "cell_type": "markdown",
   "metadata": {
    "id": "zG-talW-D6jl"
   },
   "source": [
    "## Data : description and cleaning\n",
    "\n",
    "\n",
    "id - a unique identifier for each tweet\n",
    "\n",
    "text - the text of the tweet\n",
    "\n",
    "location - the location the tweet was sent from (may be blank)\n",
    "\n",
    "keyword - a particular keyword from the tweet (may be blank)\n",
    "\n",
    "target - in train.csv only, this denotes whether a tweet is about a real disaster (1) or not (0)"
   ]
  },
  {
   "cell_type": "code",
   "execution_count": 3,
   "metadata": {
    "id": "W0P0yPPNkgpN"
   },
   "outputs": [],
   "source": [
    "df_train = pd.read_csv('/content/train.csv')\n"
   ]
  },
  {
   "cell_type": "code",
   "execution_count": 4,
   "metadata": {
    "colab": {
     "base_uri": "https://localhost:8080/"
    },
    "id": "Ei1j8XOIsa7B",
    "outputId": "9ddfdc98-b406-4d58-aa06-eb091daef2e0"
   },
   "outputs": [
    {
     "name": "stdout",
     "output_type": "stream",
     "text": [
      "Shape of Train Data : (7613, 5)\n"
     ]
    }
   ],
   "source": [
    "print('Shape of Train Data :', df_train.shape)\n"
   ]
  },
  {
   "cell_type": "code",
   "execution_count": 5,
   "metadata": {
    "colab": {
     "base_uri": "https://localhost:8080/",
     "height": 204
    },
    "id": "adA41tMQlcS0",
    "outputId": "caf2b27f-b110-4ce4-de1d-f14d44bd8481"
   },
   "outputs": [
    {
     "data": {
      "text/html": [
       "<div>\n",
       "<style scoped>\n",
       "    .dataframe tbody tr th:only-of-type {\n",
       "        vertical-align: middle;\n",
       "    }\n",
       "\n",
       "    .dataframe tbody tr th {\n",
       "        vertical-align: top;\n",
       "    }\n",
       "\n",
       "    .dataframe thead th {\n",
       "        text-align: right;\n",
       "    }\n",
       "</style>\n",
       "<table border=\"1\" class=\"dataframe\">\n",
       "  <thead>\n",
       "    <tr style=\"text-align: right;\">\n",
       "      <th></th>\n",
       "      <th>id</th>\n",
       "      <th>keyword</th>\n",
       "      <th>location</th>\n",
       "      <th>text</th>\n",
       "      <th>target</th>\n",
       "    </tr>\n",
       "  </thead>\n",
       "  <tbody>\n",
       "    <tr>\n",
       "      <th>0</th>\n",
       "      <td>1</td>\n",
       "      <td>NaN</td>\n",
       "      <td>NaN</td>\n",
       "      <td>Our Deeds are the Reason of this #earthquake M...</td>\n",
       "      <td>1</td>\n",
       "    </tr>\n",
       "    <tr>\n",
       "      <th>1</th>\n",
       "      <td>4</td>\n",
       "      <td>NaN</td>\n",
       "      <td>NaN</td>\n",
       "      <td>Forest fire near La Ronge Sask. Canada</td>\n",
       "      <td>1</td>\n",
       "    </tr>\n",
       "    <tr>\n",
       "      <th>2</th>\n",
       "      <td>5</td>\n",
       "      <td>NaN</td>\n",
       "      <td>NaN</td>\n",
       "      <td>All residents asked to 'shelter in place' are ...</td>\n",
       "      <td>1</td>\n",
       "    </tr>\n",
       "    <tr>\n",
       "      <th>3</th>\n",
       "      <td>6</td>\n",
       "      <td>NaN</td>\n",
       "      <td>NaN</td>\n",
       "      <td>13,000 people receive #wildfires evacuation or...</td>\n",
       "      <td>1</td>\n",
       "    </tr>\n",
       "    <tr>\n",
       "      <th>4</th>\n",
       "      <td>7</td>\n",
       "      <td>NaN</td>\n",
       "      <td>NaN</td>\n",
       "      <td>Just got sent this photo from Ruby #Alaska as ...</td>\n",
       "      <td>1</td>\n",
       "    </tr>\n",
       "  </tbody>\n",
       "</table>\n",
       "</div>"
      ],
      "text/plain": [
       "   id keyword  ...                                               text target\n",
       "0   1     NaN  ...  Our Deeds are the Reason of this #earthquake M...      1\n",
       "1   4     NaN  ...             Forest fire near La Ronge Sask. Canada      1\n",
       "2   5     NaN  ...  All residents asked to 'shelter in place' are ...      1\n",
       "3   6     NaN  ...  13,000 people receive #wildfires evacuation or...      1\n",
       "4   7     NaN  ...  Just got sent this photo from Ruby #Alaska as ...      1\n",
       "\n",
       "[5 rows x 5 columns]"
      ]
     },
     "execution_count": 5,
     "metadata": {
      "tags": []
     },
     "output_type": "execute_result"
    }
   ],
   "source": [
    "df_train.head()"
   ]
  },
  {
   "cell_type": "code",
   "execution_count": 6,
   "metadata": {
    "id": "qSCkbEWU69JG"
   },
   "outputs": [],
   "source": [
    "dftrain = df_train.drop(['keyword', 'location', 'id'], axis=1)"
   ]
  },
  {
   "cell_type": "markdown",
   "metadata": {
    "id": "nBbhi_2u7aSP"
   },
   "source": [
    "## Statistcs"
   ]
  },
  {
   "cell_type": "code",
   "execution_count": 7,
   "metadata": {
    "colab": {
     "base_uri": "https://localhost:8080/",
     "height": 367
    },
    "id": "O_MIwna2ko49",
    "outputId": "262e62f3-88f5-4d80-ff33-e58123722dec"
   },
   "outputs": [
    {
     "data": {
      "image/png": "[encoded data removed]",
      "text/plain": [
       "<Figure size 1800x600 with 2 Axes>"
      ]
     },
     "metadata": {
      "needs_background": "light",
      "tags": []
     },
     "output_type": "display_data"
    }
   ],
   "source": [
    "fig, axes = plt.subplots(ncols=2, nrows=1, figsize=(18, 6), dpi=100)\n",
    "sns.countplot(dftrain['target'], ax=axes[0])\n",
    "axes[1].pie(dftrain['target'].value_counts(),\n",
    "            labels=['Not Disaster', 'Disaster'],\n",
    "            autopct='%1.2f%%',\n",
    "            shadow=True,\n",
    "            explode=(0.05, 0),\n",
    "            startangle=60)\n",
    "fig.suptitle('Distribution of the Tweets', fontsize=24)\n",
    "plt.show()"
   ]
  },
  {
   "cell_type": "code",
   "execution_count": 8,
   "metadata": {
    "id": "Z5UoWTQ37cXr"
   },
   "outputs": [],
   "source": [
    "def plot_sent_len(dataf, col, title):\n",
    "    dataf['len_' + col] = dataf[col].apply(lambda txt: len(txt.split()))\n",
    "    plt.hist(dataf['len_' + col], bins = 100)\n",
    "    plt.title('{} sentences length'.format(\"data\"))\n",
    "    plt.show()\n",
    "    return dataf\n"
   ]
  },
  {
   "cell_type": "code",
   "execution_count": 9,
   "metadata": {
    "colab": {
     "base_uri": "https://localhost:8080/",
     "height": 281
    },
    "id": "mGNzkGsBEUy7",
    "outputId": "3b0e7e02-3062-4358-a10b-6d2647051eec"
   },
   "outputs": [
    {
     "data": {
      "image/png": "[encoded data removed]",
      "text/plain": [
       "<Figure size 432x288 with 1 Axes>"
      ]
     },
     "metadata": {
      "needs_background": "light",
      "tags": []
     },
     "output_type": "display_data"
    }
   ],
   "source": [
    "df = plot_sent_len(dftrain, 'text', 'sentence lengths')"
   ]
  },
  {
   "cell_type": "code",
   "execution_count": 10,
   "metadata": {
    "colab": {
     "base_uri": "https://localhost:8080/",
     "height": 405
    },
    "id": "LlrLnmmuFwJI",
    "outputId": "27ac3b36-6b9d-4540-9ff2-8928449f6f9e"
   },
   "outputs": [
    {
     "data": {
      "text/plain": [
       "Text(0.5, 0, 'Message Length')"
      ]
     },
     "execution_count": 10,
     "metadata": {
      "tags": []
     },
     "output_type": "execute_result"
    },
    {
     "data": {
      "image/png": "[encoded data removed]",
      "text/plain": [
       "<Figure size 576x432 with 1 Axes>"
      ]
     },
     "metadata": {
      "needs_background": "light",
      "tags": []
     },
     "output_type": "display_data"
    }
   ],
   "source": [
    "plt.figure(figsize=(8, 6))\n",
    "dftrain.text.loc[dftrain.target==0].apply(lambda x: len(x)).plot(bins=35, kind='hist', label='no disaster', alpha=0.3)\n",
    "dftrain.text.loc[dftrain.target==1].apply(lambda x: len(x)).plot(bins=35, kind='hist', label='disaster', alpha=0.4)\n",
    "plt.legend()\n",
    "plt.xlabel(\"Message Length\")"
   ]
  },
  {
   "cell_type": "code",
   "execution_count": 11,
   "metadata": {
    "colab": {
     "base_uri": "https://localhost:8080/",
     "height": 373
    },
    "id": "ER_nIIbJGaR9",
    "outputId": "79ca33de-9ad6-4dee-9b1f-67c74cb23071"
   },
   "outputs": [
    {
     "data": {
      "text/plain": [
       "Text(0.5, 0.98, 'Characters in tweets')"
      ]
     },
     "execution_count": 11,
     "metadata": {
      "tags": []
     },
     "output_type": "execute_result"
    },
    {
     "data": {
      "image/png": "[encoded data removed]",
      "text/plain": [
       "<Figure size 720x360 with 2 Axes>"
      ]
     },
     "metadata": {
      "needs_background": "light",
      "tags": []
     },
     "output_type": "display_data"
    }
   ],
   "source": [
    "fig,(ax1,ax2) = plt.subplots(1,2,figsize=(10,5))\n",
    "tweet_len = dftrain[dftrain['target']==1]['text'].str.len()\n",
    "ax1.hist(tweet_len,color='orange')\n",
    "ax1.set_title('Disaster tweets')\n",
    "tweet_len = dftrain[dftrain['target']==0]['text'].str.len()\n",
    "ax2.hist(tweet_len)\n",
    "ax2.set_title('Non disaster tweets')\n",
    "fig.suptitle('Characters in tweets')"
   ]
  },
  {
   "cell_type": "markdown",
   "metadata": {
    "id": "N4tW88NbZLTC"
   },
   "source": [
    "## CLEAING & TOKENIZATION"
   ]
  },
  {
   "cell_type": "code",
   "execution_count": 12,
   "metadata": {
    "colab": {
     "base_uri": "https://localhost:8080/"
    },
    "id": "ukMnX_P1E4jp",
    "outputId": "7cfffc23-8c79-453b-9202-953e0e165a8a"
   },
   "outputs": [
    {
     "name": "stdout",
     "output_type": "stream",
     "text": [
      "Requirement already satisfied: ekphrasis in /usr/local/lib/python3.7/dist-packages (0.5.1)\n",
      "Requirement already satisfied: colorama in /usr/local/lib/python3.7/dist-packages (from ekphrasis) (0.4.4)\n",
      "Requirement already satisfied: matplotlib in /usr/local/lib/python3.7/dist-packages (from ekphrasis) (3.2.2)\n",
      "Requirement already satisfied: numpy in /usr/local/lib/python3.7/dist-packages (from ekphrasis) (1.19.5)\n",
      "Requirement already satisfied: tqdm in /usr/local/lib/python3.7/dist-packages (from ekphrasis) (4.41.1)\n",
      "Requirement already satisfied: termcolor in /usr/local/lib/python3.7/dist-packages (from ekphrasis) (1.1.0)\n",
      "Requirement already satisfied: ftfy in /usr/local/lib/python3.7/dist-packages (from ekphrasis) (6.0.1)\n",
      "Requirement already satisfied: ujson in /usr/local/lib/python3.7/dist-packages (from ekphrasis) (4.0.2)\n",
      "Requirement already satisfied: nltk in /usr/local/lib/python3.7/dist-packages (from ekphrasis) (3.2.5)\n",
      "Requirement already satisfied: kiwisolver>=1.0.1 in /usr/local/lib/python3.7/dist-packages (from matplotlib->ekphrasis) (1.3.1)\n",
      "Requirement already satisfied: python-dateutil>=2.1 in /usr/local/lib/python3.7/dist-packages (from matplotlib->ekphrasis) (2.8.1)\n",
      "Requirement already satisfied: pyparsing!=2.0.4,!=2.1.2,!=2.1.6,>=2.0.1 in /usr/local/lib/python3.7/dist-packages (from matplotlib->ekphrasis) (2.4.7)\n",
      "Requirement already satisfied: cycler>=0.10 in /usr/local/lib/python3.7/dist-packages (from matplotlib->ekphrasis) (0.10.0)\n",
      "Requirement already satisfied: wcwidth in /usr/local/lib/python3.7/dist-packages (from ftfy->ekphrasis) (0.2.5)\n",
      "Requirement already satisfied: six in /usr/local/lib/python3.7/dist-packages (from nltk->ekphrasis) (1.15.0)\n"
     ]
    }
   ],
   "source": [
    "!pip install ekphrasis"
   ]
  },
  {
   "cell_type": "code",
   "execution_count": 13,
   "metadata": {
    "id": "x4J4kuZuiHq2"
   },
   "outputs": [],
   "source": [
    "import json\n",
    "import pandas as pd\n",
    "import numpy as np\n",
    "import re\n",
    "import nltk\n",
    "#from gensim.models.phrases import Phrases, Phraser\n",
    "from nltk.tokenize import TreebankWordTokenizer, TweetTokenizer\n",
    "from nltk.tokenize.treebank import TreebankWordDetokenizer\n",
    "#import emoji\n",
    "from tqdm import tqdm\n",
    "import warnings\n",
    "import os\n",
    "from multiprocessing import Pool\n",
    "import multiprocessing\n",
    "import glob\n",
    "import ekphrasis"
   ]
  },
  {
   "cell_type": "code",
   "execution_count": 14,
   "metadata": {
    "colab": {
     "base_uri": "https://localhost:8080/"
    },
    "id": "0RmVa6IOccki",
    "outputId": "5300d4ab-71c4-40cc-cbe7-fecfc5292a2d"
   },
   "outputs": [
    {
     "name": "stdout",
     "output_type": "stream",
     "text": [
      "[nltk_data] Downloading package stopwords to /root/nltk_data...\n",
      "[nltk_data]   Package stopwords is already up-to-date!\n",
      "[nltk_data] Downloading package punkt to /root/nltk_data...\n",
      "[nltk_data]   Package punkt is already up-to-date!\n",
      "[nltk_data] Downloading package averaged_perceptron_tagger to\n",
      "[nltk_data]     /root/nltk_data...\n",
      "[nltk_data]   Package averaged_perceptron_tagger is already up-to-\n",
      "[nltk_data]       date!\n",
      "[nltk_data] Downloading package wordnet to /root/nltk_data...\n",
      "[nltk_data]   Package wordnet is already up-to-date!\n"
     ]
    }
   ],
   "source": [
    "import nltk\n",
    "nltk.download('stopwords')\n",
    "nltk.download('punkt')\n",
    "nltk.download('averaged_perceptron_tagger')\n",
    "nltk.download('wordnet')\n",
    "from nltk.corpus import stopwords, wordnet\n",
    "from nltk.stem import WordNetLemmatizer\n",
    "from nltk.tokenize import word_tokenize\n",
    "from nltk.probability import FreqDist\n",
    "\n",
    "from ekphrasis.dicts.noslang.slangdict import slangdict\n"
   ]
  },
  {
   "cell_type": "code",
   "execution_count": 15,
   "metadata": {
    "id": "ReLL7ipXiPu3"
   },
   "outputs": [],
   "source": [
    "#deal with Tweeter abreviation and replace them.\n",
    "uncased_slang_dict = {}\n",
    "for key, value in slangdict.items():\n",
    "    value = re.sub(r'it means', '', value)\n",
    "    value = re.sub(r'\\*\\*\\*', 'uck', value)\n",
    "    value = re.sub(r'\\*\\*', 'it', value)\n",
    "    value = re.sub(r'it refers to', '', value)\n",
    "    uncased_slang_dict[key.lower()] = value.lower()\n",
    "#print('Slang words number:', len(uncased_slang_dict))"
   ]
  },
  {
   "cell_type": "code",
   "execution_count": 16,
   "metadata": {
    "id": "tUHnkq1FiXbS"
   },
   "outputs": [],
   "source": [
    "def replace_slang(txt, slang):\n",
    "    ctxt = re.sub(r'\\s+', ' ', txt)\n",
    "    tt = []\n",
    "    for tok in ctxt.split():\n",
    "        if tok.lower() in slang:\n",
    "            tt.append(slang[tok.lower()])\n",
    "        else:\n",
    "            tt.append(tok)\n",
    "    tt = ' '.join(tt)\n",
    "    return tt.strip()\n",
    "\n",
    "def preprocess(txt):\n",
    "    tt = txt.encode('ascii', 'ignore').decode()\n",
    "    tt = replace_slang(tt, uncased_slang_dict)\n",
    "    return tt.strip()"
   ]
  },
  {
   "cell_type": "code",
   "execution_count": 17,
   "metadata": {
    "id": "wiQF_j-cic_E"
   },
   "outputs": [],
   "source": [
    "dftrain['clean_text']= dftrain['text'].apply(preprocess)"
   ]
  },
  {
   "cell_type": "code",
   "execution_count": 18,
   "metadata": {
    "id": "bdZirlAzcoAl"
   },
   "outputs": [],
   "source": [
    "stop_words = set(stopwords.words('english'))\n",
    "\n",
    "def remove_URL(text):\n",
    "    url = re.compile(r'https?://\\S+|www\\.\\S+')\n",
    "    return url.sub(r'', text)\n",
    "\n",
    "def remove_stopwords(text):\n",
    "    text = ' '.join(word for word in text.split(' ') if word not in stop_words)\n",
    "    return text\n",
    "\n",
    "def remove_html(txt):\n",
    "    html = re.compile(r'<.*?>|&([a-z0-9]+|#[0-9]{1,6}|#x[0-9a-f]{1,6});')\n",
    "    return re.sub(html, '', txt)\n",
    "\n",
    "def CLEAN_TOKEN(base):\n",
    "      tokenizer = TweetTokenizer()\n",
    "      base = base.apply(lambda x: remove_URL(x))\n",
    "      base = base.apply(lambda x: remove_html(x))\n",
    "      base = base.apply(lambda x: x.replace('#', ''))\n",
    "      base = base.apply(lambda x: x.replace(']', ''))\n",
    "      base = base.apply(lambda x: x.replace('[', ''))\n",
    "      base = base.apply(lambda x: x.replace('\"', ''))\n",
    "      base = base.apply(lambda x: x.replace('?', ''))\n",
    "      base = base.apply(lambda x: x.replace('.', ''))\n",
    "      base = base.apply(lambda x: remove_stopwords(x))\n",
    "      base = base.apply(tokenizer.tokenize)\n",
    "      base = base.apply(lambda x: [word.lower() for word in x])\n",
    "      \n",
    "      return base"
   ]
  },
  {
   "cell_type": "code",
   "execution_count": 19,
   "metadata": {
    "id": "5AyMOwJ4pJkR"
   },
   "outputs": [],
   "source": [
    "dftrain['clean_text_token']=CLEAN_TOKEN(dftrain['clean_text'])"
   ]
  },
  {
   "cell_type": "markdown",
   "metadata": {
    "id": "7iQPCgH-qv1b"
   },
   "source": [
    "## MODELS 1 and 2 with Distbill Bert"
   ]
  },
  {
   "cell_type": "markdown",
   "metadata": {
    "id": "goxk56VyD6jt"
   },
   "source": [
    "We first collect embendding vectors from a pre-trained version of DistilBERT (which a distil version of BERT model, https://huggingface.co/transformers/model_doc/distilbert.html).\n",
    "\n",
    "We chose this model for computational reasons: the collection of embendding vectors can be very slow to compute.\n",
    "\n",
    "Once we have the embedding representation of all token of the database, we select the first token of each sentence ([CLS] token) which is very usefull for classification.\n",
    "\n",
    "We finally train a Logistic Regression and a Random Forest on this token.\n",
    "We also gridsearch to find good hyperparameters."
   ]
  },
  {
   "cell_type": "code",
   "execution_count": 20,
   "metadata": {
    "colab": {
     "base_uri": "https://localhost:8080/"
    },
    "id": "PdSyYZNcFHa5",
    "outputId": "f6cc38c0-dc65-4827-ec4c-b44004809cf0"
   },
   "outputs": [
    {
     "name": "stdout",
     "output_type": "stream",
     "text": [
      "Requirement already satisfied: transformers in /usr/local/lib/python3.7/dist-packages (4.5.1)\n",
      "Requirement already satisfied: packaging in /usr/local/lib/python3.7/dist-packages (from transformers) (20.9)\n",
      "Requirement already satisfied: tqdm>=4.27 in /usr/local/lib/python3.7/dist-packages (from transformers) (4.41.1)\n",
      "Requirement already satisfied: numpy>=1.17 in /usr/local/lib/python3.7/dist-packages (from transformers) (1.19.5)\n",
      "Requirement already satisfied: importlib-metadata; python_version < \"3.8\" in /usr/local/lib/python3.7/dist-packages (from transformers) (3.10.1)\n",
      "Requirement already satisfied: tokenizers<0.11,>=0.10.1 in /usr/local/lib/python3.7/dist-packages (from transformers) (0.10.2)\n",
      "Requirement already satisfied: sacremoses in /usr/local/lib/python3.7/dist-packages (from transformers) (0.0.45)\n",
      "Requirement already satisfied: regex!=2019.12.17 in /usr/local/lib/python3.7/dist-packages (from transformers) (2019.12.20)\n",
      "Requirement already satisfied: filelock in /usr/local/lib/python3.7/dist-packages (from transformers) (3.0.12)\n",
      "Requirement already satisfied: requests in /usr/local/lib/python3.7/dist-packages (from transformers) (2.23.0)\n",
      "Requirement already satisfied: pyparsing>=2.0.2 in /usr/local/lib/python3.7/dist-packages (from packaging->transformers) (2.4.7)\n",
      "Requirement already satisfied: zipp>=0.5 in /usr/local/lib/python3.7/dist-packages (from importlib-metadata; python_version < \"3.8\"->transformers) (3.4.1)\n",
      "Requirement already satisfied: typing-extensions>=3.6.4; python_version < \"3.8\" in /usr/local/lib/python3.7/dist-packages (from importlib-metadata; python_version < \"3.8\"->transformers) (3.7.4.3)\n",
      "Requirement already satisfied: six in /usr/local/lib/python3.7/dist-packages (from sacremoses->transformers) (1.15.0)\n",
      "Requirement already satisfied: click in /usr/local/lib/python3.7/dist-packages (from sacremoses->transformers) (7.1.2)\n",
      "Requirement already satisfied: joblib in /usr/local/lib/python3.7/dist-packages (from sacremoses->transformers) (1.0.1)\n",
      "Requirement already satisfied: urllib3!=1.25.0,!=1.25.1,<1.26,>=1.21.1 in /usr/local/lib/python3.7/dist-packages (from requests->transformers) (1.24.3)\n",
      "Requirement already satisfied: certifi>=2017.4.17 in /usr/local/lib/python3.7/dist-packages (from requests->transformers) (2020.12.5)\n",
      "Requirement already satisfied: chardet<4,>=3.0.2 in /usr/local/lib/python3.7/dist-packages (from requests->transformers) (3.0.4)\n",
      "Requirement already satisfied: idna<3,>=2.5 in /usr/local/lib/python3.7/dist-packages (from requests->transformers) (2.10)\n"
     ]
    }
   ],
   "source": [
    "!pip install transformers"
   ]
  },
  {
   "cell_type": "code",
   "execution_count": 21,
   "metadata": {
    "id": "mlQqcJfhq35M"
   },
   "outputs": [],
   "source": [
    "import torch\n",
    "from transformers import DistilBertTokenizer, DistilBertForSequenceClassification, AdamW, DistilBertConfig, get_linear_schedule_with_warmup, DistilBertModel\n"
   ]
  },
  {
   "cell_type": "code",
   "execution_count": 22,
   "metadata": {
    "id": "m2Xe8CKhqxgG"
   },
   "outputs": [],
   "source": [
    "if torch.cuda.is_available():    \n",
    "  device = torch.device('cuda')  "
   ]
  },
  {
   "cell_type": "code",
   "execution_count": 23,
   "metadata": {
    "id": "S5MqblqJrCJ7"
   },
   "outputs": [],
   "source": [
    "tokenizer = DistilBertTokenizer.from_pretrained('distilbert-base-uncased', do_lower_case=True)\n",
    "\n",
    "pretrained_weights='distilbert-base-uncased'\n",
    "config_class=DistilBertConfig\n",
    "model_class=DistilBertModel\n",
    "config = config_class.from_pretrained(pretrained_weights,output_hidden_states=True)\n",
    "model = model_class.from_pretrained(pretrained_weights,config=config)\n"
   ]
  },
  {
   "cell_type": "code",
   "execution_count": 24,
   "metadata": {
    "id": "7fTrIG734Axa"
   },
   "outputs": [],
   "source": [
    "#we collect all token (padded) but not projected yet (each token (number) is in dimension 1)\n",
    "def inputs_id_attention_mask(data):\n",
    "  train_tokenized=data.apply((lambda x: tokenizer.encode(x, add_special_tokens=True)))\n",
    "  max_len = 0\n",
    "  for j in train_tokenized.values:\n",
    "        if len(j) > max_len:\n",
    "            max_len = len(j)\n",
    "\n",
    "  padded = np.array([k + [0]*(max_len-len(k)) for k in train_tokenized.values])\n",
    "  attention_mask = np.where(padded != 0, 1, 0)\n",
    "\n",
    "\n",
    "  torch_input_ids=torch.tensor(padded)\n",
    "  torch_attention_mask=torch.tensor(attention_mask)\n",
    "\n",
    "  return torch_input_ids, torch_attention_mask\n",
    "\n",
    "torch_input_ids, torch_attention_mask = inputs_id_attention_mask(dftrain['clean_text_token'])\n"
   ]
  },
  {
   "cell_type": "code",
   "execution_count": 25,
   "metadata": {
    "id": "sGAaiYxND2Ee"
   },
   "outputs": [],
   "source": [
    "# for this method the all dataset is to heavy. So we reduce the number of sentences. We worked until 3000 and the balance of the two classes was still good.\n",
    "# and we collect embeddings vectors and keep the [CLS] token (dimension : 768)\n",
    "n=2000\n",
    "with torch.no_grad():\n",
    "    last_hidden_states=model(torch_input_ids[0:n,],torch_attention_mask[0:n,])\n",
    "\n",
    "CLS_token=last_hidden_states[0][:,0,:].numpy()"
   ]
  },
  {
   "cell_type": "code",
   "execution_count": 26,
   "metadata": {
    "id": "iLw09PgMP4LN"
   },
   "outputs": [],
   "source": [
    "from sklearn.ensemble import RandomForestClassifier\n",
    "from sklearn.linear_model import LogisticRegression\n",
    "from sklearn.model_selection import train_test_split\n",
    "from sklearn.model_selection import GridSearchCV\n",
    "from sklearn.metrics import make_scorer, accuracy_score, f1_score\n",
    "from sklearn.metrics import accuracy_score,recall_score,precision_score,f1_score,confusion_matrix\n",
    "\n"
   ]
  },
  {
   "cell_type": "code",
   "execution_count": 27,
   "metadata": {
    "id": "Vm86Zg8oOMkq"
   },
   "outputs": [],
   "source": [
    "X_train, X_test, y_train, y_test = train_test_split(CLS_token, dftrain.target[0:n], test_size=0.33, random_state=42)"
   ]
  },
  {
   "cell_type": "code",
   "execution_count": 28,
   "metadata": {
    "id": "75zUNHNlPIF-"
   },
   "outputs": [],
   "source": [
    "classifiers = {'Logistic regression':LogisticRegression(random_state=0),\n",
    "               'Random Forest': RandomForestClassifier(random_state=0)}\n",
    "\n",
    "parameters_rf = {'n_estimators': [300, 600], 'max_features': ['log2', 'sqrt'], 'max_depth': [300, 700], 'min_samples_split': [500, 700]}\n",
    "\n",
    "parameters_logit = {'max_iter': [100,200],'C': [1, 10, 100]}\n",
    "\n",
    "pars = [parameters_logit, parameters_rf]\n"
   ]
  },
  {
   "cell_type": "code",
   "execution_count": 28,
   "metadata": {
    "id": "FIAqTRK8Per5"
   },
   "outputs": [],
   "source": []
  },
  {
   "cell_type": "code",
   "execution_count": 29,
   "metadata": {
    "id": "ZgK34RiDQHYf"
   },
   "outputs": [],
   "source": [
    "def grid_search_classifier(clf,params):\n",
    "    parameters = params\n",
    "    f1_scorer = make_scorer(f1_score)\n",
    "    grid_obj = GridSearchCV(clf, parameters, scoring=f1_scorer)\n",
    "    grid_obj = grid_obj.fit(X_train, y_train)\n",
    "    clf = grid_obj.best_estimator_\n",
    "    return clf\n",
    "\n",
    "def allmetrics(y_test,ypred):\n",
    "    metrics = pd.DataFrame([],columns=['accuracy','recall','precision','f1-score'])\n",
    "    metrics['accuracy'] = [accuracy_score(y_test,ypred)]\n",
    "    metrics['recall'] = [recall_score(y_test,ypred,average='macro')]\n",
    "    metrics['precision'] = [precision_score(y_test,ypred,average='macro',zero_division=0)]\n",
    "    metrics['f1-score'] = [f1_score(y_test,ypred,average='macro',zero_division=0)]\n",
    "    return metrics"
   ]
  },
  {
   "cell_type": "code",
   "execution_count": 30,
   "metadata": {
    "id": "26JsvNPrfysA"
   },
   "outputs": [],
   "source": [
    "clf_l = grid_search_classifier(LogisticRegression(C=1.0, class_weight=None, dual=False, fit_intercept=True,\n",
    "                   intercept_scaling=1, l1_ratio=None, max_iter=100,\n",
    "                   multi_class='auto', n_jobs=None, penalty='l2',\n",
    "                   random_state=0, solver='lbfgs', tol=0.0001, verbose=0,\n",
    "                   warm_start=False),parameters_logit)\n",
    "clf_l.fit(X_train,y_train)\n",
    "ypred_logit = clf_l.predict(X_test)\n",
    "\n"
   ]
  },
  {
   "cell_type": "code",
   "execution_count": 31,
   "metadata": {
    "id": "HIzKag4sklso"
   },
   "outputs": [],
   "source": [
    "clf_r = grid_search_classifier(RandomForestClassifier(bootstrap=True, ccp_alpha=0.0, class_weight=None,\n",
    "                       criterion='gini', max_depth=None, max_features='auto',\n",
    "                       max_leaf_nodes=None, max_samples=None,\n",
    "                       min_impurity_decrease=0.0, min_impurity_split=None,\n",
    "                       min_samples_leaf=1, min_samples_split=2,\n",
    "                       min_weight_fraction_leaf=0.0, n_estimators=100,\n",
    "                       n_jobs=None, oob_score=False, random_state=0, verbose=0,\n",
    "                       warm_start=False),parameters_rf)\n",
    "clf_r.fit(X_train,y_train)\n",
    "ypred_rf = clf_r.predict(X_test)"
   ]
  },
  {
   "cell_type": "code",
   "execution_count": 32,
   "metadata": {
    "colab": {
     "base_uri": "https://localhost:8080/"
    },
    "id": "Rg83jfaLiSLZ",
    "outputId": "2fbfba66-9981-41cc-d6aa-0663848cfe1f"
   },
   "outputs": [
    {
     "name": "stdout",
     "output_type": "stream",
     "text": [
      "\u001b[1mLogistic Regression\u001b[0m\n",
      "   accuracy    recall  precision  f1-score\n",
      "0  0.783333  0.752901   0.781942  0.761184\n",
      "\u001b[1mRandom Forest\u001b[0m\n",
      "   accuracy    recall  precision  f1-score\n",
      "0  0.771212  0.723681   0.792943   0.73395\n"
     ]
    }
   ],
   "source": [
    "#we display many metrics, but for the challenge just the f1-score is important\n",
    "print('\\033[1m' + \"Logistic Regression\" + '\\033[0m')\n",
    "print(allmetrics(y_test,ypred_logit))\n",
    "print('\\033[1m' + \"Random Forest\" + '\\033[0m')\n",
    "print(allmetrics(y_test,ypred_rf))\n"
   ]
  },
  {
   "cell_type": "code",
   "execution_count": 33,
   "metadata": {
    "id": "ovXUp-NUw3vQ"
   },
   "outputs": [],
   "source": [
    "def plot_confusion_matrix(ytrue,ypred,norm=False,label_map=None):\n",
    "    plt.figure(figsize=(5,5))\n",
    "    labels = np.unique(ytrue)\n",
    "    cm = confusion_matrix(ytrue,ypred,labels = labels)\n",
    "    if norm:\n",
    "        cm = np.round(cm/cm.sum(axis=0),3)\n",
    "        cm = np.nan_to_num(cm)\n",
    "        fmt = '.2f'\n",
    "    else:\n",
    "        fmt = 'd'\n",
    "    if not label_map is None:\n",
    "        labels = [label_map[l] for l in labels]\n",
    "    #plot\n",
    "    sns.heatmap(cm, xticklabels = labels, yticklabels = labels, annot = True, fmt=fmt, cmap=\"Reds\", vmin = 0.2)\n",
    "    plt.title('Confusion matrix')\n",
    "    tick_marks = np.arange(len(labels))\n",
    "    plt.xticks(tick_marks, labels, rotation=45)\n",
    "    plt.yticks(tick_marks, labels)\n",
    "    plt.ylabel('True label')\n",
    "    plt.xlabel('Predicted label')\n",
    "\n",
    "    plt.tight_layout()\n",
    "    plt.show()"
   ]
  },
  {
   "cell_type": "code",
   "execution_count": 34,
   "metadata": {
    "colab": {
     "base_uri": "https://localhost:8080/",
     "height": 721
    },
    "id": "fpXWQSaPw5HT",
    "outputId": "6d79bdca-f69d-4d46-ae2d-04787bb805ea"
   },
   "outputs": [
    {
     "data": {
      "image/png": "[encoded data removed]",
      "text/plain": [
       "<Figure size 360x360 with 2 Axes>"
      ]
     },
     "metadata": {
      "needs_background": "light",
      "tags": []
     },
     "output_type": "display_data"
    },
    {
     "data": {
      "image/png": "[encoded data removed]",
      "text/plain": [
       "<Figure size 360x360 with 2 Axes>"
      ]
     },
     "metadata": {
      "needs_background": "light",
      "tags": []
     },
     "output_type": "display_data"
    }
   ],
   "source": [
    "plot_confusion_matrix(y_test,ypred_rf,norm=False,label_map=None)\n",
    "plot_confusion_matrix(y_test,ypred_logit,norm=False,label_map=None)\n"
   ]
  },
  {
   "cell_type": "markdown",
   "metadata": {
    "id": "hSleKzFHE2AN"
   },
   "source": [
    "## DistilBERT and Fine Tuning"
   ]
  },
  {
   "cell_type": "markdown",
   "metadata": {
    "id": "1o8DYGiCD6jy"
   },
   "source": [
    "In this part, we fine tune a pre-trained version of DistilBert.\n",
    "This is the deep learning part of our project."
   ]
  },
  {
   "cell_type": "code",
   "execution_count": 35,
   "metadata": {
    "id": "SMP10Wzx-ZcH"
   },
   "outputs": [],
   "source": [
    "from transformers import DistilBertModel\n",
    "import torch\n",
    "import torch.nn as nn\n",
    "from sklearn.model_selection import train_test_split\n"
   ]
  },
  {
   "cell_type": "code",
   "execution_count": 36,
   "metadata": {
    "id": "XZeoFYAkHrnQ"
   },
   "outputs": [],
   "source": [
    "X_train, X_test, y_train, y_test = train_test_split(dftrain.clean_text_token[0:3000], dftrain.target[0:3000], test_size=0.33, random_state=42)\n"
   ]
  },
  {
   "cell_type": "code",
   "execution_count": 37,
   "metadata": {
    "id": "U4Z0RSIizOEl"
   },
   "outputs": [],
   "source": [
    "train_inputs, train_masks = inputs_id_attention_mask(X_train)\n",
    "test_inputs, test_masks = inputs_id_attention_mask(X_test)"
   ]
  },
  {
   "cell_type": "code",
   "execution_count": 38,
   "metadata": {
    "id": "KzhcjURcoDT3"
   },
   "outputs": [],
   "source": [
    "from torch.utils.data import TensorDataset, DataLoader, RandomSampler, SequentialSampler\n",
    "\n",
    "train_labels = torch.tensor(y_train.to_numpy())\n",
    "test_labels = torch.tensor(y_test.to_numpy())\n",
    "\n",
    "#batch size of 32 (according to the authors)\n",
    "batch_size = 32\n",
    "\n",
    "train_data = TensorDataset(train_inputs, train_masks, train_labels)\n",
    "train_sampler = RandomSampler(train_data)\n",
    "train_dataloader = DataLoader(train_data, sampler=train_sampler, batch_size=batch_size)\n",
    "\n",
    "test_data = TensorDataset(test_inputs, test_masks, test_labels)\n",
    "test_sampler = SequentialSampler(test_data)\n",
    "test_dataloader = DataLoader(test_data, sampler=test_sampler, batch_size=batch_size)"
   ]
  },
  {
   "cell_type": "code",
   "execution_count": 39,
   "metadata": {
    "id": "H7RihThS-XWf"
   },
   "outputs": [],
   "source": [
    "import torch\n",
    "import torch.nn as nn\n",
    "\n",
    "class DistilBertModel_classifier(nn.Module):\n",
    "    def __init__(self, pretrained_model_name='distilbert-base-uncased'):\n",
    "        super(DistilBertModel_classifier, self).__init__()\n",
    "        D_in, H, D_out = 768, 50, 2\n",
    "        self.distilbert = DistilBertModel.from_pretrained('distilbert-base-uncased')\n",
    "        self.classifier = nn.Sequential(\n",
    "            nn.Linear(D_in, H),\n",
    "            nn.ReLU(),\n",
    "            #nn.Dropout(0.5),\n",
    "            nn.Linear(H, D_out)\n",
    "        )\n",
    "\n",
    "    def forward(self, input_ids, attention_mask):\n",
    "  \n",
    "        outputs = self.distilbert(input_ids=input_ids,\n",
    "                            attention_mask=attention_mask)\n",
    "        \n",
    "        last_hidden_state_cls = outputs[0][:, 0, :]\n",
    "\n",
    "        logits = self.classifier(last_hidden_state_cls)\n",
    "\n",
    "        return logits"
   ]
  },
  {
   "cell_type": "code",
   "execution_count": 40,
   "metadata": {
    "id": "E6MCekZfJpIG"
   },
   "outputs": [],
   "source": [
    "from transformers import AdamW, get_linear_schedule_with_warmup\n",
    "\n",
    "def initialize_model(epochs=4):\n",
    "\n",
    "    bert_classifier = DistilBertModel_classifier()\n",
    "\n",
    "    bert_classifier.to(device)\n",
    "\n",
    "    optimizer = AdamW(bert_classifier.parameters(),\n",
    "                      lr=5e-5,    \n",
    "                      eps=1e-8 \n",
    "                      )\n",
    "\n",
    "    total_steps = len(train_dataloader) * epochs\n",
    "\n",
    "    scheduler = get_linear_schedule_with_warmup(optimizer,\n",
    "                                                num_warmup_steps=0,\n",
    "                                                num_training_steps=total_steps)\n",
    "    return bert_classifier, optimizer, scheduler"
   ]
  },
  {
   "cell_type": "code",
   "execution_count": 41,
   "metadata": {
    "id": "HNiKniw41Sm9"
   },
   "outputs": [],
   "source": [
    "import random\n",
    "import time\n",
    "\n",
    "loss_fn = nn.CrossEntropyLoss()\n",
    "\n",
    "def set_seed(seed_value=42):\n",
    "\n",
    "    random.seed(seed_value)\n",
    "    np.random.seed(seed_value)\n",
    "    torch.manual_seed(seed_value)\n",
    "    torch.cuda.manual_seed_all(seed_value)\n",
    "\n",
    "def train(model, train_dataloader, test_dataloader=None, epochs=4, evaluation=False):\n",
    "\n",
    "    print(\"Start training...\\n\")\n",
    "    for epoch_i in range(epochs):\n",
    "\n",
    "        print(f\"{'Epoch':^7} | {'Batch':^7} | {'Train Loss':^12} | {'Val Loss':^10} | {'Val Acc':^9} | {'Elapsed':^9}\")\n",
    "        print(\"-\"*70)\n",
    "\n",
    "        t0_epoch, t0_batch = time.time(), time.time()\n",
    "\n",
    "        total_loss, batch_loss, batch_counts = 0, 0, 0\n",
    "\n",
    "        model.train()\n",
    "\n",
    "        for step, batch in enumerate(train_dataloader):\n",
    "            batch_counts +=1\n",
    "\n",
    "            b_input_ids, b_attn_mask, b_labels = tuple(t.to(device) for t in batch)\n",
    "\n",
    "            model.zero_grad()\n",
    "\n",
    "            logits = model(b_input_ids, b_attn_mask)\n",
    "\n",
    "            loss = loss_fn(logits, b_labels)\n",
    "            batch_loss += loss.item()\n",
    "            total_loss += loss.item()\n",
    "\n",
    "            loss.backward()\n",
    "\n",
    "            torch.nn.utils.clip_grad_norm_(model.parameters(), 1.0)\n",
    "\n",
    "            optimizer.step()\n",
    "            scheduler.step()\n",
    "\n",
    "            if (step % 20 == 0 and step != 0) or (step == len(train_dataloader) - 1):\n",
    "                time_elapsed = time.time() - t0_batch\n",
    "\n",
    "                print(f\"{epoch_i + 1:^7} | {step:^7} | {batch_loss / batch_counts:^12.6f} | {'-':^10} | {'-':^9} | {time_elapsed:^9.2f}\")\n",
    "\n",
    "                batch_loss, batch_counts = 0, 0\n",
    "                t0_batch = time.time()\n",
    "\n",
    "        avg_train_loss = total_loss / len(train_dataloader)\n",
    "\n",
    "        print(\"-\"*70)\n",
    "        # =======================================\n",
    "        #               Evaluation\n",
    "        # =======================================\n",
    "        if evaluation == True:\n",
    "\n",
    "            val_loss, val_accuracy = evaluate(model, test_dataloader)\n",
    "\n",
    "            time_elapsed = time.time() - t0_epoch\n",
    "            \n",
    "            print(f\"{epoch_i + 1:^7} | {'-':^7} | {avg_train_loss:^12.6f} | {val_loss:^10.6f} | {val_accuracy:^9.2f} | {time_elapsed:^9.2f}\")\n",
    "            print(\"-\"*70)\n",
    "        print(\"\\n\")\n",
    "    \n",
    "    print(\"Training finished!\")\n",
    "\n",
    "\n",
    "def evaluate(model, test_dataloader):\n",
    "\n",
    "    model.eval()\n",
    "\n",
    "    val_accuracy = []\n",
    "    val_loss = []\n",
    "\n",
    "    for batch in test_dataloader:\n",
    "        b_input_ids, b_attn_mask, b_labels = tuple(t.to(device) for t in batch)\n",
    "\n",
    "        with torch.no_grad():\n",
    "            logits = model(b_input_ids, b_attn_mask)\n",
    "\n",
    "        loss = loss_fn(logits, b_labels)\n",
    "        val_loss.append(loss.item())\n",
    "\n",
    "        preds = torch.argmax(logits, dim=1).flatten()\n",
    "\n",
    "        accuracy = (preds == b_labels).cpu().numpy().mean() * 100\n",
    "        val_accuracy.append(accuracy)\n",
    "\n",
    "    val_loss = np.mean(val_loss)\n",
    "    val_accuracy = np.mean(val_accuracy)\n",
    "\n",
    "    return val_loss, val_accuracy"
   ]
  },
  {
   "cell_type": "code",
   "execution_count": 42,
   "metadata": {
    "colab": {
     "base_uri": "https://localhost:8080/"
    },
    "id": "MDrG4v9U1moB",
    "outputId": "24841719-65c5-46af-b69c-964d71f6add6"
   },
   "outputs": [
    {
     "name": "stdout",
     "output_type": "stream",
     "text": [
      "Start training...\n",
      "\n",
      " Epoch  |  Batch  |  Train Loss  |  Val Loss  |  Val Acc  |  Elapsed \n",
      "----------------------------------------------------------------------\n",
      "   1    |   20    |   0.568877   |     -      |     -     |   2.26   \n",
      "   1    |   40    |   0.467442   |     -      |     -     |   2.11   \n",
      "   1    |   60    |   0.509371   |     -      |     -     |   2.12   \n",
      "   1    |   62    |   0.526107   |     -      |     -     |   0.20   \n",
      "----------------------------------------------------------------------\n",
      "   1    |    -    |   0.516427   |  0.445846  |   80.82   |   7.65   \n",
      "----------------------------------------------------------------------\n",
      "\n",
      "\n",
      " Epoch  |  Batch  |  Train Loss  |  Val Loss  |  Val Acc  |  Elapsed \n",
      "----------------------------------------------------------------------\n",
      "   2    |   20    |   0.363353   |     -      |     -     |   2.22   \n",
      "   2    |   40    |   0.374613   |     -      |     -     |   2.13   \n",
      "   2    |   60    |   0.386125   |     -      |     -     |   2.14   \n",
      "   2    |   62    |   0.258662   |     -      |     -     |   0.20   \n",
      "----------------------------------------------------------------------\n",
      "   2    |    -    |   0.370833   |  0.445779  |   80.91   |   7.67   \n",
      "----------------------------------------------------------------------\n",
      "\n",
      "\n",
      "Training finished!\n"
     ]
    }
   ],
   "source": [
    "set_seed(1)\n",
    "bert_classifier, optimizer, scheduler = initialize_model(epochs=2)\n",
    "train(bert_classifier, train_dataloader, test_dataloader, epochs=2, evaluation=True)"
   ]
  },
  {
   "cell_type": "code",
   "execution_count": 43,
   "metadata": {
    "id": "B9Ow7qPw7IQI"
   },
   "outputs": [],
   "source": [
    "import torch.nn.functional as F\n",
    "\n",
    "def bert_predict(model, test_dataloader):\n",
    "    model.eval()\n",
    "\n",
    "    all_logits = []\n",
    "\n",
    "    for batch in test_dataloader:\n",
    "        b_input_ids, b_attn_mask = tuple(t.to(device) for t in batch)[:2]\n",
    "\n",
    "        with torch.no_grad():\n",
    "            logits = model(b_input_ids, b_attn_mask)\n",
    "        all_logits.append(logits)\n",
    "    \n",
    "    all_logits = torch.cat(all_logits, dim=0)\n",
    "\n",
    "    probs = F.softmax(all_logits, dim=1).cpu().numpy()\n",
    "\n",
    "    threshold = 0.8\n",
    "    preds = np.where(probs[:, 1] > threshold, 1, 0)\n",
    "\n",
    "    return preds"
   ]
  },
  {
   "cell_type": "code",
   "execution_count": 44,
   "metadata": {
    "id": "pRkor5YRfXj9"
   },
   "outputs": [],
   "source": [
    "pred_DB=bert_predict(bert_classifier, test_dataloader)"
   ]
  },
  {
   "cell_type": "code",
   "execution_count": 45,
   "metadata": {
    "colab": {
     "base_uri": "https://localhost:8080/"
    },
    "id": "QMR2agP7-nIc",
    "outputId": "d48cf28d-c27d-4c4d-b021-53c6538848fc"
   },
   "outputs": [
    {
     "name": "stdout",
     "output_type": "stream",
     "text": [
      "\u001b[1mFine-Tuning\u001b[0m\n",
      "   accuracy    recall  precision  f1-score\n",
      "0   0.80101  0.762203   0.839022  0.773504\n"
     ]
    }
   ],
   "source": [
    "print('\\033[1m' + \"Fine-Tuning\" + '\\033[0m')\n",
    "print(allmetrics(y_test,pred_DB))"
   ]
  },
  {
   "cell_type": "code",
   "execution_count": 46,
   "metadata": {
    "colab": {
     "base_uri": "https://localhost:8080/",
     "height": 369
    },
    "id": "dVaRJQpoD6j1",
    "outputId": "e40d2606-991a-42c1-c9b2-aa9ddd21222d"
   },
   "outputs": [
    {
     "data": {
      "image/png": "[encoded data removed]",
      "text/plain": [
       "<Figure size 360x360 with 2 Axes>"
      ]
     },
     "metadata": {
      "needs_background": "light",
      "tags": []
     },
     "output_type": "display_data"
    }
   ],
   "source": [
    "plot_confusion_matrix(y_test,pred_DB,norm=False,label_map=None)\n"
   ]
  },
  {
   "cell_type": "markdown",
   "metadata": {
    "id": "I5EkO0BRI94_"
   },
   "source": [
    "We obtain results slightly better with the fine-tuning process than with the features extraction. \n",
    "\n",
    "The gap would be more impressive with more data and a better computationnal power.\n",
    "\n",
    "Nethertheless the fine-tuning process is much more faster.\n"
   ]
  },
  {
   "cell_type": "code",
   "execution_count": 46,
   "metadata": {
    "id": "W-tpJ9iqJdjU"
   },
   "outputs": [],
   "source": []
  }
 ],
 "metadata": {
  "accelerator": "GPU",
  "colab": {
   "name": "NLP_3A_ENSAE.ipynb",
   "provenance": [],
   "toc_visible": true
  },
  "kernelspec": {
   "display_name": "Python 3",
   "language": "python",
   "name": "python3"
  },
  "language_info": {
   "codemirror_mode": {
    "name": "ipython",
    "version": 3
   },
   "file_extension": ".py",
   "mimetype": "text/x-python",
   "name": "python",
   "nbconvert_exporter": "python",
   "pygments_lexer": "ipython3",
   "version": "3.7.4"
  }
 },
 "nbformat": 4,
 "nbformat_minor": 1
}
